{
 "cells": [
  {
   "cell_type": "code",
   "execution_count": 25,
   "id": "fe1e8a39-bbd7-4943-b7f1-e69de81fbeec",
   "metadata": {},
   "outputs": [],
   "source": [
    "import os\n",
    "import pandas as pd\n",
    "from ydata_profiling import ProfileReport\n",
    "from logging import getLogger, basicConfig, INFO\n",
    "\n",
    "logger = getLogger(__name__)\n",
    "basicConfig(level=INFO, format=\"%(asctime)-15s %(message)s\")\n"
   ]
  },
  {
   "cell_type": "code",
   "execution_count": 28,
   "id": "042d2926-dd1f-41b5-b6df-1223b7821fc5",
   "metadata": {},
   "outputs": [
    {
     "data": {
      "text/html": [
       "<div>\n",
       "<style scoped>\n",
       "    .dataframe tbody tr th:only-of-type {\n",
       "        vertical-align: middle;\n",
       "    }\n",
       "\n",
       "    .dataframe tbody tr th {\n",
       "        vertical-align: top;\n",
       "    }\n",
       "\n",
       "    .dataframe thead th {\n",
       "        text-align: right;\n",
       "    }\n",
       "</style>\n",
       "<table border=\"1\" class=\"dataframe\">\n",
       "  <thead>\n",
       "    <tr style=\"text-align: right;\">\n",
       "      <th></th>\n",
       "      <th>age</th>\n",
       "      <th>workclass</th>\n",
       "      <th>fnlgt</th>\n",
       "      <th>education</th>\n",
       "      <th>education-num</th>\n",
       "      <th>marital-status</th>\n",
       "      <th>occupation</th>\n",
       "      <th>relationship</th>\n",
       "      <th>race</th>\n",
       "      <th>sex</th>\n",
       "      <th>capital-gain</th>\n",
       "      <th>capital-loss</th>\n",
       "      <th>hours-per-week</th>\n",
       "      <th>native-country</th>\n",
       "      <th>salary</th>\n",
       "    </tr>\n",
       "  </thead>\n",
       "  <tbody>\n",
       "    <tr>\n",
       "      <th>0</th>\n",
       "      <td>39</td>\n",
       "      <td>State-gov</td>\n",
       "      <td>77516</td>\n",
       "      <td>Bachelors</td>\n",
       "      <td>13</td>\n",
       "      <td>Never-married</td>\n",
       "      <td>Adm-clerical</td>\n",
       "      <td>Not-in-family</td>\n",
       "      <td>White</td>\n",
       "      <td>Male</td>\n",
       "      <td>2174</td>\n",
       "      <td>0</td>\n",
       "      <td>40</td>\n",
       "      <td>United-States</td>\n",
       "      <td>&lt;=50K</td>\n",
       "    </tr>\n",
       "    <tr>\n",
       "      <th>1</th>\n",
       "      <td>50</td>\n",
       "      <td>Self-emp-not-inc</td>\n",
       "      <td>83311</td>\n",
       "      <td>Bachelors</td>\n",
       "      <td>13</td>\n",
       "      <td>Married-civ-spouse</td>\n",
       "      <td>Exec-managerial</td>\n",
       "      <td>Husband</td>\n",
       "      <td>White</td>\n",
       "      <td>Male</td>\n",
       "      <td>0</td>\n",
       "      <td>0</td>\n",
       "      <td>13</td>\n",
       "      <td>United-States</td>\n",
       "      <td>&lt;=50K</td>\n",
       "    </tr>\n",
       "    <tr>\n",
       "      <th>2</th>\n",
       "      <td>38</td>\n",
       "      <td>Private</td>\n",
       "      <td>215646</td>\n",
       "      <td>HS-grad</td>\n",
       "      <td>9</td>\n",
       "      <td>Divorced</td>\n",
       "      <td>Handlers-cleaners</td>\n",
       "      <td>Not-in-family</td>\n",
       "      <td>White</td>\n",
       "      <td>Male</td>\n",
       "      <td>0</td>\n",
       "      <td>0</td>\n",
       "      <td>40</td>\n",
       "      <td>United-States</td>\n",
       "      <td>&lt;=50K</td>\n",
       "    </tr>\n",
       "    <tr>\n",
       "      <th>3</th>\n",
       "      <td>53</td>\n",
       "      <td>Private</td>\n",
       "      <td>234721</td>\n",
       "      <td>11th</td>\n",
       "      <td>7</td>\n",
       "      <td>Married-civ-spouse</td>\n",
       "      <td>Handlers-cleaners</td>\n",
       "      <td>Husband</td>\n",
       "      <td>Black</td>\n",
       "      <td>Male</td>\n",
       "      <td>0</td>\n",
       "      <td>0</td>\n",
       "      <td>40</td>\n",
       "      <td>United-States</td>\n",
       "      <td>&lt;=50K</td>\n",
       "    </tr>\n",
       "    <tr>\n",
       "      <th>4</th>\n",
       "      <td>28</td>\n",
       "      <td>Private</td>\n",
       "      <td>338409</td>\n",
       "      <td>Bachelors</td>\n",
       "      <td>13</td>\n",
       "      <td>Married-civ-spouse</td>\n",
       "      <td>Prof-specialty</td>\n",
       "      <td>Wife</td>\n",
       "      <td>Black</td>\n",
       "      <td>Female</td>\n",
       "      <td>0</td>\n",
       "      <td>0</td>\n",
       "      <td>40</td>\n",
       "      <td>Cuba</td>\n",
       "      <td>&lt;=50K</td>\n",
       "    </tr>\n",
       "  </tbody>\n",
       "</table>\n",
       "</div>"
      ],
      "text/plain": [
       "   age          workclass   fnlgt   education   education-num  \\\n",
       "0   39          State-gov   77516   Bachelors              13   \n",
       "1   50   Self-emp-not-inc   83311   Bachelors              13   \n",
       "2   38            Private  215646     HS-grad               9   \n",
       "3   53            Private  234721        11th               7   \n",
       "4   28            Private  338409   Bachelors              13   \n",
       "\n",
       "        marital-status          occupation    relationship    race      sex  \\\n",
       "0        Never-married        Adm-clerical   Not-in-family   White     Male   \n",
       "1   Married-civ-spouse     Exec-managerial         Husband   White     Male   \n",
       "2             Divorced   Handlers-cleaners   Not-in-family   White     Male   \n",
       "3   Married-civ-spouse   Handlers-cleaners         Husband   Black     Male   \n",
       "4   Married-civ-spouse      Prof-specialty            Wife   Black   Female   \n",
       "\n",
       "    capital-gain   capital-loss   hours-per-week  native-country  salary  \n",
       "0           2174              0               40   United-States   <=50K  \n",
       "1              0              0               13   United-States   <=50K  \n",
       "2              0              0               40   United-States   <=50K  \n",
       "3              0              0               40   United-States   <=50K  \n",
       "4              0              0               40            Cuba   <=50K  "
      ]
     },
     "execution_count": 28,
     "metadata": {},
     "output_type": "execute_result"
    }
   ],
   "source": [
    "df_raw = pd.read_csv(\"./data/census.csv\")\n",
    "df_raw.head()"
   ]
  },
  {
   "cell_type": "code",
   "execution_count": 3,
   "id": "ff9ff869-2585-4c9b-8f76-9d8ced9f164a",
   "metadata": {},
   "outputs": [
    {
     "data": {
      "application/vnd.jupyter.widget-view+json": {
       "model_id": "c059b1492d3542ab899cf30e7e66d3e2",
       "version_major": 2,
       "version_minor": 0
      },
      "text/plain": [
       "Summarize dataset:   0%|          | 0/5 [00:00<?, ?it/s]"
      ]
     },
     "metadata": {},
     "output_type": "display_data"
    },
    {
     "name": "stderr",
     "output_type": "stream",
     "text": [
      "/Users/andrea.vitali/miniconda3/envs/mlops-render-deploy/lib/python3.12/site-packages/ydata_profiling/model/correlations.py:66: UserWarning: There was an attempt to calculate the auto correlation, but this failed.\n",
      "To hide this warning, disable the calculation\n",
      "(using `df.profile_report(correlations={\"auto\": {\"calculate\": False}})`\n",
      "If this is problematic for your use case, please report this as an issue:\n",
      "https://github.com/ydataai/ydata-profiling/issues\n",
      "(include the error message: 'could not convert string to float: ' Bachelors'')\n",
      "  warnings.warn(\n"
     ]
    },
    {
     "data": {
      "application/vnd.jupyter.widget-view+json": {
       "model_id": "f2e4beacb2f54355ad45de3d9594b1c3",
       "version_major": 2,
       "version_minor": 0
      },
      "text/plain": [
       "Generate report structure:   0%|          | 0/1 [00:00<?, ?it/s]"
      ]
     },
     "metadata": {},
     "output_type": "display_data"
    },
    {
     "data": {
      "application/vnd.jupyter.widget-view+json": {
       "model_id": "b41e955477244a47b1f0d6459660eab3",
       "version_major": 2,
       "version_minor": 0
      },
      "text/plain": [
       "Render widgets:   0%|          | 0/1 [00:00<?, ?it/s]"
      ]
     },
     "metadata": {},
     "output_type": "display_data"
    },
    {
     "data": {
      "application/vnd.jupyter.widget-view+json": {
       "model_id": "894466f333324a5cb9387010b9fafbd6",
       "version_major": 2,
       "version_minor": 0
      },
      "text/plain": [
       "VBox(children=(Tab(children=(Tab(children=(GridBox(children=(VBox(children=(GridspecLayout(children=(HTML(valu…"
      ]
     },
     "metadata": {},
     "output_type": "display_data"
    }
   ],
   "source": [
    "profile = ProfileReport(df_raw, title=\"Profiling Report 1\")\n",
    "profile.to_widgets()"
   ]
  },
  {
   "cell_type": "code",
   "execution_count": 8,
   "id": "78a5319a-35b9-4e83-8224-0422dbe192fe",
   "metadata": {},
   "outputs": [
    {
     "data": {
      "application/vnd.jupyter.widget-view+json": {
       "model_id": "62eab161ab0544a1b527e671d868dd4b",
       "version_major": 2,
       "version_minor": 0
      },
      "text/plain": [
       "Summarize dataset:   0%|          | 0/5 [00:00<?, ?it/s]"
      ]
     },
     "metadata": {},
     "output_type": "display_data"
    },
    {
     "name": "stderr",
     "output_type": "stream",
     "text": [
      "/Users/andrea.vitali/miniconda3/envs/mlops-render-deploy/lib/python3.12/site-packages/ydata_profiling/model/correlations.py:66: UserWarning: There was an attempt to calculate the auto correlation, but this failed.\n",
      "To hide this warning, disable the calculation\n",
      "(using `df.profile_report(correlations={\"auto\": {\"calculate\": False}})`\n",
      "If this is problematic for your use case, please report this as an issue:\n",
      "https://github.com/ydataai/ydata-profiling/issues\n",
      "(include the error message: 'could not convert string to float: ' Bachelors'')\n",
      "  warnings.warn(\n"
     ]
    },
    {
     "data": {
      "application/vnd.jupyter.widget-view+json": {
       "model_id": "60902b6e723d48b08cde6f35e81f86c4",
       "version_major": 2,
       "version_minor": 0
      },
      "text/plain": [
       "Generate report structure:   0%|          | 0/1 [00:00<?, ?it/s]"
      ]
     },
     "metadata": {},
     "output_type": "display_data"
    },
    {
     "data": {
      "application/vnd.jupyter.widget-view+json": {
       "model_id": "78740b4007cc4ffdb8b6457c86fdcbee",
       "version_major": 2,
       "version_minor": 0
      },
      "text/plain": [
       "Render widgets:   0%|          | 0/1 [00:00<?, ?it/s]"
      ]
     },
     "metadata": {},
     "output_type": "display_data"
    },
    {
     "data": {
      "application/vnd.jupyter.widget-view+json": {
       "model_id": "bb1aaca8d22148f7bb2b40ac4e5fbd3e",
       "version_major": 2,
       "version_minor": 0
      },
      "text/plain": [
       "VBox(children=(Tab(children=(Tab(children=(GridBox(children=(VBox(children=(GridspecLayout(children=(HTML(valu…"
      ]
     },
     "metadata": {},
     "output_type": "display_data"
    }
   ],
   "source": [
    "df_raw.drop_duplicates(inplace=True)\n",
    "profile = ProfileReport(df_raw, title=\"Profiling Report 2\")\n",
    "profile.to_widgets()"
   ]
  },
  {
   "cell_type": "code",
   "execution_count": 31,
   "id": "e9c603ec",
   "metadata": {},
   "outputs": [
    {
     "name": "stderr",
     "output_type": "stream",
     "text": [
      "2024-05-24 10:34:11,381 INFO: renaming ' fnlgt' to 'fnlgt'\n",
      "2024-05-24 10:34:11,393 INFO: trying stripping fnlgt (type int64) values\n",
      "2024-05-24 10:34:11,402 INFO: skiped stripping of fnlgt (type int64) values\n",
      "2024-05-24 10:34:11,403 INFO: renaming ' education' to 'education'\n",
      "2024-05-24 10:34:11,404 INFO: trying stripping education (type object) values\n",
      "2024-05-24 10:34:11,410 INFO: renaming ' education-num' to 'education-num'\n"
     ]
    },
    {
     "name": "stderr",
     "output_type": "stream",
     "text": [
      "2024-05-24 10:34:11,412 INFO: trying stripping education-num (type int64) values\n",
      "2024-05-24 10:34:11,423 INFO: skiped stripping of education-num (type int64) values\n",
      "2024-05-24 10:34:11,425 INFO: renaming ' marital-status' to 'marital-status'\n",
      "2024-05-24 10:34:11,427 INFO: trying stripping marital-status (type object) values\n",
      "2024-05-24 10:34:11,433 INFO: renaming ' occupation' to 'occupation'\n",
      "2024-05-24 10:34:11,434 INFO: trying stripping occupation (type object) values\n",
      "2024-05-24 10:34:11,440 INFO: renaming ' relationship' to 'relationship'\n",
      "2024-05-24 10:34:11,441 INFO: trying stripping relationship (type object) values\n",
      "2024-05-24 10:34:11,447 INFO: renaming ' race' to 'race'\n",
      "2024-05-24 10:34:11,449 INFO: trying stripping race (type object) values\n",
      "2024-05-24 10:34:11,455 INFO: renaming ' sex' to 'sex'\n",
      "2024-05-24 10:34:11,458 INFO: trying stripping sex (type object) values\n",
      "2024-05-24 10:34:11,465 INFO: renaming ' capital-gain' to 'capital-gain'\n",
      "2024-05-24 10:34:11,467 INFO: trying stripping capital-gain (type int64) values\n",
      "2024-05-24 10:34:11,470 INFO: skiped stripping of capital-gain (type int64) values\n",
      "2024-05-24 10:34:11,471 INFO: renaming ' capital-loss' to 'capital-loss'\n",
      "2024-05-24 10:34:11,473 INFO: trying stripping capital-loss (type int64) values\n",
      "2024-05-24 10:34:11,474 INFO: skiped stripping of capital-loss (type int64) values\n",
      "2024-05-24 10:34:11,475 INFO: renaming ' hours-per-week' to 'hours-per-week'\n",
      "2024-05-24 10:34:11,477 INFO: trying stripping hours-per-week (type int64) values\n",
      "2024-05-24 10:34:11,478 INFO: skiped stripping of hours-per-week (type int64) values\n",
      "2024-05-24 10:34:11,478 INFO: renaming ' native-country' to 'native-country'\n",
      "2024-05-24 10:34:11,480 INFO: trying stripping native-country (type object) values\n",
      "2024-05-24 10:34:11,486 INFO: renaming ' salary' to 'salary'\n",
      "2024-05-24 10:34:11,489 INFO: trying stripping salary (type object) values\n",
      "2024-05-24 10:34:11,495 INFO: renaming 'age' to 'age'\n",
      "2024-05-24 10:34:11,497 INFO: trying stripping age (type int64) values\n",
      "2024-05-24 10:34:11,498 INFO: skiped stripping of age (type int64) values\n",
      "2024-05-24 10:34:11,499 INFO: renaming 'workclass' to 'workclass'\n",
      "2024-05-24 10:34:11,500 INFO: trying stripping workclass (type object) values\n"
     ]
    }
   ],
   "source": [
    "for col in df_raw.columns:\n",
    "    new_col = col.strip()\n",
    "    logger.info(f\"INFO: renaming '{col}' to '{new_col}'\")\n",
    "    df_raw[new_col] = df_raw.pop(col)\n",
    "    try:\n",
    "        logger.info(f\"INFO: trying stripping {new_col} (type {df_raw[new_col].dtype}) values\")\n",
    "        df_raw[new_col] = [val.strip() for val in df_raw[new_col].values.tolist()]\n",
    "    except:\n",
    "        logger.info(f\"INFO: skiped stripping of {new_col} (type {df_raw[new_col].dtype}) values\")"
   ]
  },
  {
   "cell_type": "code",
   "execution_count": 35,
   "id": "75e79c8a-32df-4b73-98d8-b47ee1d283dc",
   "metadata": {},
   "outputs": [],
   "source": [
    "df_raw.to_csv(\"./data/census_clean.csv\")"
   ]
  },
  {
   "cell_type": "code",
   "execution_count": null,
   "id": "dc82c101",
   "metadata": {},
   "outputs": [],
   "source": []
  }
 ],
 "metadata": {
  "kernelspec": {
   "display_name": "mlops-render-deploy",
   "language": "python",
   "name": "python3"
  },
  "language_info": {
   "codemirror_mode": {
    "name": "ipython",
    "version": 3
   },
   "file_extension": ".py",
   "mimetype": "text/x-python",
   "name": "python",
   "nbconvert_exporter": "python",
   "pygments_lexer": "ipython3",
   "version": "3.12.3"
  }
 },
 "nbformat": 4,
 "nbformat_minor": 5
}
